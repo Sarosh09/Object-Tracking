{
 "cells": [
  {
   "cell_type": "markdown",
   "metadata": {},
   "source": [
    "## Import Libraries"
   ]
  },
  {
   "cell_type": "code",
   "execution_count": null,
   "metadata": {},
   "outputs": [],
   "source": [
    "import cv2"
   ]
  },
  {
   "cell_type": "markdown",
   "metadata": {},
   "source": [
    "## Define our Tracker"
   ]
  },
  {
   "cell_type": "code",
   "execution_count": null,
   "metadata": {},
   "outputs": [],
   "source": [
    "def ask_for_tracker():\n",
    "    print('Hi!What tracker API would you like to use?')\n",
    "    print('Enter 0 for BOOSTING: ')\n",
    "    print('Enter 1 for MIL: ')\n",
    "    print('Enter 2 for KCF: ')\n",
    "    print('Enter 3 for TLD: ')\n",
    "    print('Enter 4 for MEDIANFLOW: ')\n",
    "    print('Enter 5 for GOTURN: ')\n",
    "    print('Enter 6 for MOSSE: ')\n",
    "    print('Enter 7 for CSRT: ')\n",
    "    \n",
    "    choice = input('Please select your tracker: ')\n",
    "    if choice == 0:\n",
    "        tracker = cv2.TrackerBoostring_create()\n",
    "    if choice == 1:\n",
    "        tracker = cv2.TrackerMIL_create()\n",
    "    if choice == 2:\n",
    "        tracker = cv2.TrackerKCF_create()\n",
    "    if choice == 3:\n",
    "        tracker = cv2.TrackerTLD_create()\n",
    "    if choice == 4:\n",
    "        tracker = cv2.TrackerMedianFlow_create()\n",
    "    if choice == 5:\n",
    "        tracker = cv2.TrackerGOTURN_create()\n",
    "    if choice == 6:\n",
    "        tracker = cv2.TrackerMOSSE_create()\n",
    "    if choice == 7:\n",
    "        tracker = cv2.TrackerCSRT_create()\n",
    "        \n",
    "    return tracker\n"
   ]
  },
  {
   "cell_type": "markdown",
   "metadata": {},
   "source": [
    "## Magic"
   ]
  },
  {
   "cell_type": "code",
   "execution_count": null,
   "metadata": {},
   "outputs": [],
   "source": [
    "# Tracker\n",
    "tercker = ask_for_tracker()\n",
    "\n",
    "# Tracker name\n",
    "tracker_name = str(tracker).split()[0][1:]\n",
    "\n",
    "# Capture the video\n",
    "cap = cv2.Videocapture('Videos/Vehicles.mp4')\n",
    "\n",
    "# Read the first frame\n",
    "ret, frame = cap.read()\n",
    "\n",
    "# Select our ROI\n",
    "roi = cv2.selectROI(frame, False)\n",
    "\n",
    "# Initialize Tracker\n",
    "ret = tracker.init(frame, roi)\n",
    "\n",
    "#while loop\n",
    "while True:\n",
    "    \n",
    "    # Read the capture\n",
    "    ret, frame = cap.read()\n",
    "    \n",
    "    # Update tracker\n",
    "    success, roi = tracker.update(frame)\n",
    "    \n",
    "    # roi --> from tuple to int\n",
    "    (x, y, w, h) = tuple(map(inr, roi))\n",
    "    \n",
    "    # Draw rects as tracker moves\n",
    "    if success:\n",
    "        \n",
    "        # success on tracking\n",
    "        pts1 = (x, y)\n",
    "        pts2 = (x+w, y+h)\n",
    "        cv2.rectangle(frame, pts1, pts2, (255, 125, 25), 3)\n",
    "        \n",
    "    # else\n",
    "    else:\n",
    "        \n",
    "        # failure on tracking\n",
    "        cv2.putText(frame, 'Fail to track the object', (100, 200), cv2.FONT_HERSHEY_SIMPLEX, 1, (25, 125, 255), 3)\n",
    "        \n",
    "    # Display tracker\n",
    "    cv2.puttext(frame, tracker_name, (20, 400), FONT_HERSHEY_SIMPLEX, 1, (255, 255, 0), 3)\n",
    "    \n",
    "    # Display result\n",
    "    cv2.imshow(tracker_name, frame)\n",
    "    \n",
    "    # exit with ESC button\n",
    "    if cv2.waitKey(50) & 0xFF == 27:\n",
    "        break\n",
    "        \n",
    "# release the capture and Destroy all windows\n",
    "cap.release()\n",
    "cv2.destroyAllWindows()\n",
    "    "
   ]
  }
 ],
 "metadata": {
  "kernelspec": {
   "display_name": "Python 3",
   "language": "python",
   "name": "python3"
  },
  "language_info": {
   "codemirror_mode": {
    "name": "ipython",
    "version": 3
   },
   "file_extension": ".py",
   "mimetype": "text/x-python",
   "name": "python",
   "nbconvert_exporter": "python",
   "pygments_lexer": "ipython3",
   "version": "3.7.6"
  }
 },
 "nbformat": 4,
 "nbformat_minor": 4
}
