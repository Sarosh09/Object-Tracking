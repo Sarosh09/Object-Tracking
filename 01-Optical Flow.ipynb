{
 "cells": [
  {
   "cell_type": "code",
   "execution_count": 1,
   "metadata": {},
   "outputs": [],
   "source": [
    "# import libraries\n",
    "import cv2\n",
    "import numpy as np"
   ]
  },
  {
   "cell_type": "code",
   "execution_count": 3,
   "metadata": {},
   "outputs": [
    {
     "ename": "SyntaxError",
     "evalue": "invalid syntax (<ipython-input-3-fec5039f37ba>, line 13)",
     "output_type": "error",
     "traceback": [
      "\u001b[1;36m  File \u001b[1;32m\"<ipython-input-3-fec5039f37ba>\"\u001b[1;36m, line \u001b[1;32m13\u001b[0m\n\u001b[1;33m    cap = cv2.VideoCapture('run.webm')\u001b[0m\n\u001b[1;37m      ^\u001b[0m\n\u001b[1;31mSyntaxError\u001b[0m\u001b[1;31m:\u001b[0m invalid syntax\n"
     ]
    }
   ],
   "source": [
    "# parameters fo Shi-tomasi corner detection\n",
    "st_params = dict(maxCorners = 30,\n",
    "                qualityLevel = 0.2,\n",
    "                minDistance = 2,\n",
    "                blockSize = 7)\n",
    "\n",
    "# parameters for Lucas-kande optical flow\n",
    "lk_params = dict(winSize = (15, 15),\n",
    "                maxLevel = 2,\n",
    "                crteria = (cv2.TERM_CRITERIA_EPS | cv2.TERM_CRITERIA_COUNT, 10, 1)\n",
    "\n",
    "# video capture\n",
    "cap = cv2.VideoCapture('run.webm')\n",
    "\n",
    "# color for optical flow\n",
    "color = (0, 255, 0)\n",
    "\n",
    "# read the capture and get the first frame\n",
    "ret, first_frame = cap.read()\n",
    "\n",
    "# convert frame to grayscale\n",
    "prev_gray = cv2.cvtColor(first_frame, cv2.COLOR_BGR2GRAY)\n",
    "\n",
    "# find the strongest corners in the first frame\n",
    "prev = cv2.goodFeaturesToTrack(prev_gray, mask = None, **st_params)\n",
    "\n",
    "# create an image with the same dimensions as the frame for later drawing purposes\n",
    "mask = np.zeros_Like(first_frame)\n",
    "\n",
    "# while loop\n",
    "while(cap.isOpened()):\n",
    "    \n",
    "    # read the capture amd get the first frame\n",
    "    ret, frame = cap.read()\n",
    "    \n",
    "    # convert all frame to grayscale(previously we did the only the first frame)\n",
    "    gray = cv2.cvtColor(frame, cv2.COLOR_BGR2GRAY)\n",
    "    \n",
    "    # calculate optical flow by Lucas-Kanade\n",
    "    next, status, error = cv2calcOpticalFlowPyrLK(prev_gray, gray, prev, None, **lk_params)\n",
    "    \n",
    "    # select good feature for the previos position\n",
    "    good_old = prev[status == 1]\n",
    "    \n",
    "    # select good feature for the next position\n",
    "    good_new = next[status == 1]\n",
    "    \n",
    "    # draw optical flow for the tracker\n",
    "    for i, (new, old) in enumerate(zip(good_new, good_old)):\n",
    "        \n",
    "        # return coordinates for the new point\n",
    "        a, b = new.ravel()\n",
    "        \n",
    "        # return coordinates for the old point\n",
    "        c, d = old.ravel()\n",
    "        \n",
    "        # draw line between new and old position\n",
    "        mask = cv2.line(mask, (a, b), (c, d), color, 2)\n",
    "        \n",
    "        # draw filled circle\n",
    "        frame = cv2.circle(frame, (a, b), (c, d), 3, color, -1)\n",
    "    \n",
    "    # overplay optical flow on original frame\n",
    "    output = cv2.add(frame, mask)\n",
    "    \n",
    "    # update previos frame\n",
    "    prev_gray = gray.copy()\n",
    "    \n",
    "    # update previous good feature\n",
    "    prev = good_new.reshape(-1, 1, 2)\n",
    "    \n",
    "    # open new window and display the output\n",
    "    cv2.imshow(\"Optical Flow\", output)\n",
    "    \n",
    "    # close the frame\n",
    "    if cv2.waitKey(300) & 0xFF == 27:\n",
    "        break\n",
    "\n",
    "# release and destroy\n",
    "cv2.release()\n",
    "cv2.releaseAllWindows()\n",
    "    \n",
    "    \n"
   ]
  }
 ],
 "metadata": {
  "kernelspec": {
   "display_name": "Python 3",
   "language": "python",
   "name": "python3"
  },
  "language_info": {
   "codemirror_mode": {
    "name": "ipython",
    "version": 3
   },
   "file_extension": ".py",
   "mimetype": "text/x-python",
   "name": "python",
   "nbconvert_exporter": "python",
   "pygments_lexer": "ipython3",
   "version": "3.7.6"
  }
 },
 "nbformat": 4,
 "nbformat_minor": 4
}
